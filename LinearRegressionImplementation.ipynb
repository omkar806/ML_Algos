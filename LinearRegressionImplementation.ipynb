{
  "nbformat": 4,
  "nbformat_minor": 0,
  "metadata": {
    "colab": {
      "provenance": [],
      "authorship_tag": "ABX9TyOUt2Urbxl0upI9HLVFYKuC",
      "include_colab_link": true
    },
    "kernelspec": {
      "name": "python3",
      "display_name": "Python 3"
    },
    "language_info": {
      "name": "python"
    }
  },
  "cells": [
    {
      "cell_type": "markdown",
      "metadata": {
        "id": "view-in-github",
        "colab_type": "text"
      },
      "source": [
        "<a href=\"https://colab.research.google.com/github/omkar806/ML_Algos/blob/main/LinearRegressionImplementation.ipynb\" target=\"_parent\"><img src=\"https://colab.research.google.com/assets/colab-badge.svg\" alt=\"Open In Colab\"/></a>"
      ]
    },
    {
      "cell_type": "code",
      "execution_count": null,
      "metadata": {
        "id": "RUiOcbZ06Gj3"
      },
      "outputs": [],
      "source": [
        "import numpy as np\n",
        "class LinearRegression():\n",
        "  def __init__(self):\n",
        "    self.m = None\n",
        "    self.b = None\n",
        "\n",
        "  def fit(self,X,y):\n",
        "    n = len(X)\n",
        "    x_mean = np.mean(X)\n",
        "    y_mean = np.mean(y)\n",
        "    numerator = 0\n",
        "    denominator = 0\n",
        "    for i,j in zip(X,y):\n",
        "      numerator += numerator + (i-x_mean)*(j-y_mean)\n",
        "      denomminator += denominator + (i-x_mean)**2\n",
        "\n",
        "    m = numerator/denominator\n",
        "    b = y_mean - m*x_mean\n",
        "\n",
        "  def predict(self, x):\n",
        "    return self.m*x + self.b\n",
        "\n",
        "\n"
      ]
    },
    {
      "cell_type": "code",
      "source": [],
      "metadata": {
        "id": "BCrxAQ0J7xAD"
      },
      "execution_count": null,
      "outputs": []
    }
  ]
}